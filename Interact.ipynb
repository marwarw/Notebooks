{
 "cells": [
  {
   "cell_type": "code",
   "execution_count": 35,
   "id": "ea7b86d2",
   "metadata": {},
   "outputs": [
    {
     "ename": "LoadError",
     "evalue": "MethodError: no method matching plot_color(::Colon)\n\u001b[0mClosest candidates are:\n\u001b[0m  plot_color(::Any, \u001b[91m::Number\u001b[39m) at ~/.julia/packages/PlotUtils/mHQ0Q/src/colors.jl:24\n\u001b[0m  plot_color(::Any, \u001b[91m::Nothing\u001b[39m) at ~/.julia/packages/PlotUtils/mHQ0Q/src/colors.jl:21\n\u001b[0m  plot_color(\u001b[91m::AbstractArray{T}\u001b[39m) where T<:Number at ~/.julia/packages/PlotUtils/mHQ0Q/src/colors.jl:55\n\u001b[0m  ...",
     "output_type": "error",
     "traceback": [
      "MethodError: no method matching plot_color(::Colon)\n\u001b[0mClosest candidates are:\n\u001b[0m  plot_color(::Any, \u001b[91m::Number\u001b[39m) at ~/.julia/packages/PlotUtils/mHQ0Q/src/colors.jl:24\n\u001b[0m  plot_color(::Any, \u001b[91m::Nothing\u001b[39m) at ~/.julia/packages/PlotUtils/mHQ0Q/src/colors.jl:21\n\u001b[0m  plot_color(\u001b[91m::AbstractArray{T}\u001b[39m) where T<:Number at ~/.julia/packages/PlotUtils/mHQ0Q/src/colors.jl:55\n\u001b[0m  ...",
      "",
      "Stacktrace:",
      "  [1] |>(x::Function, f::typeof(plot_color))",
      "    @ Base ./operators.jl:911",
      "  [2] get_series_color(c::Function, sp::Plots.Subplot{Plots.GRBackend}, n::Int64, seriestype::Symbol)",
      "    @ Plots ~/.julia/packages/Plots/sxUvK/src/args.jl:1982",
      "  [3] _update_series_attributes!(plotattributes::RecipesPipeline.DefaultsDict, plt::Plots.Plot{Plots.GRBackend}, sp::Plots.Subplot{Plots.GRBackend})",
      "    @ Plots ~/.julia/packages/Plots/sxUvK/src/args.jl:2078",
      "  [4] add_series!(plt::Plots.Plot{Plots.GRBackend}, plotattributes::RecipesPipeline.DefaultsDict)",
      "    @ Plots ~/.julia/packages/Plots/sxUvK/src/pipeline.jl:377",
      "  [5] _process_seriesrecipe(plt::Any, plotattributes::Any)",
      "    @ RecipesPipeline ~/.julia/packages/RecipesPipeline/BGM3l/src/series_recipe.jl:46",
      "  [6] _process_seriesrecipes!(plt::Any, kw_list::Any)",
      "    @ RecipesPipeline ~/.julia/packages/RecipesPipeline/BGM3l/src/series_recipe.jl:27",
      "  [7] recipe_pipeline!(plt::Any, plotattributes::Any, args::Any)",
      "    @ RecipesPipeline ~/.julia/packages/RecipesPipeline/BGM3l/src/RecipesPipeline.jl:99",
      "  [8] _plot!(plt::Plots.Plot, plotattributes::Any, args::Any)",
      "    @ Plots ~/.julia/packages/Plots/sxUvK/src/plot.jl:223",
      "  [9] plot(args::Any; kw::Base.Pairs{Symbol, V, Tuple{Vararg{Symbol, N}}, NamedTuple{names, T}} where {V, N, names, T<:Tuple{Vararg{Any, N}}})",
      "    @ Plots ~/.julia/packages/Plots/sxUvK/src/plot.jl:102",
      " [10] plot",
      "    @ ~/.julia/packages/Plots/sxUvK/src/plot.jl:93 [inlined]",
      " [11] #17",
      "    @ ./In[35]:10 [inlined]",
      " [12] #map#13",
      "    @ ~/.julia/packages/Observables/YdEbO/src/Observables.jl:570 [inlined]",
      " [13] map(::var\"#17#19\", ::Widget{:slider, Int64})",
      "    @ Observables ~/.julia/packages/Observables/YdEbO/src/Observables.jl:568",
      " [14] top-level scope",
      "    @ ~/.julia/packages/Widgets/RFAvq/src/manipulate.jl:25"
     ]
    }
   ],
   "source": [
    "using Revise\n",
    "using DrWatson\n",
    "\n",
    "@quickactivate \"SNNExamples\"\n",
    "\n",
    "using Plots\n",
    "using Interact \n",
    "\n",
    "@manipulate for var1=1:20\n",
    "    plot(x->var1*x)\n",
    "end\n"
   ]
  },
  {
   "cell_type": "code",
   "execution_count": 37,
   "id": "4d78cfbe-8ae3-423e-b0e7-fdfbbbb263ee",
   "metadata": {},
   "outputs": [],
   "source": [
    "using Revise\n",
    "using DrWatson\n",
    "@quickactivate \"SNNExamples\"\n",
    "\n",
    "using SpikingNeuralNetworks\n",
    "using Plots\n",
    "using Interact\n"
   ]
  },
  {
   "cell_type": "code",
   "execution_count": 38,
   "id": "bdcccd34-b167-480a-9aca-75b59d4aa6ce",
   "metadata": {},
   "outputs": [
    {
     "data": {
      "text/plain": [
       "1.0e-6"
      ]
     },
     "execution_count": 38,
     "metadata": {},
     "output_type": "execute_result"
    }
   ],
   "source": [
    "default(\n",
    "  size=(600, 400),\n",
    "  tickfontsize=8,\n",
    "  guidefontsize=10,\n",
    "  margin=5Plots.mm,\n",
    "  titlefontsize=13,\n",
    "  titlefontcolor=:teal,\n",
    "  markersize=6,\n",
    "  markercolor=:,\n",
    ")\n",
    "SNN.@load_units "
   ]
  },
  {
   "cell_type": "code",
   "execution_count": 39,
   "id": "4e053c48",
   "metadata": {},
   "outputs": [
    {
     "data": {
      "text/plain": [
       "-65.0"
      ]
     },
     "execution_count": 39,
     "metadata": {},
     "output_type": "execute_result"
    }
   ],
   "source": [
    "τm = 30ms  # Membrane capacitance\n",
    "Vt = -50mV  # Initial threshold\n",
    "Vr = -70mV  # Reference resting potential\n",
    "El = Vr  # Resting membrane potential\n",
    "Is = 10:5:25  # Input currents\n",
    "initial_w = -65mV  # Initial adaptation current"
   ]
  },
  {
   "cell_type": "code",
   "execution_count": 40,
   "id": "f1128788",
   "metadata": {},
   "outputs": [
    {
     "data": {
      "text/plain": [
       "SpikingNeuralNetworks.AdEx{Vector{Float32}, Vector{Bool}}(SpikingNeuralNetworks.AdExParameter{Float32}(30.0f0, 5.0f0, 10.0f0, -50.0f0, -70.0f0, -70.0f0, 0.5f0, 2.0f0, 144.0f0, 4.0f-6, 6.0f-5), 4, Float32[-69.489075, -55.492725, -65.335144, -68.59385], Float32[0.0, 0.0, 0.0, 0.0], Float32[0.0, 0.0, 0.0, 0.0], Float32[0.0, 0.0, 0.0, 0.0], Bool[0, 0, 0, 0], Float32[-50.0, -50.0, -50.0, -50.0], Float32[0.0, 0.0, 0.0, 0.0], Dict{Any, Any}())"
      ]
     },
     "execution_count": 40,
     "metadata": {},
     "output_type": "execute_result"
    }
   ],
   "source": [
    "E = SNN.AdEx(; N = length(Is), param = SNN.AdExParameter(; El = El, τm = τm, Vt = Vt, Vr = Vr))\n"
   ]
  },
  {
   "cell_type": "code",
   "execution_count": 41,
   "id": "28251cab",
   "metadata": {},
   "outputs": [],
   "source": [
    "SNN.monitor(E, [:v, :fire, :w])\n"
   ]
  },
  {
   "cell_type": "code",
   "execution_count": 42,
   "id": "9a946348",
   "metadata": {},
   "outputs": [
    {
     "data": {
      "text/plain": [
       "10:5:25"
      ]
     },
     "execution_count": 42,
     "metadata": {},
     "output_type": "execute_result"
    }
   ],
   "source": [
    "E.v .= -70mV\n",
    "E.I = Is\n"
   ]
  },
  {
   "cell_type": "code",
   "execution_count": 43,
   "id": "6ce38708",
   "metadata": {},
   "outputs": [],
   "source": [
    "SNN.sim!([E], []; duration = 1000ms)\n"
   ]
  },
  {
   "cell_type": "code",
   "execution_count": 44,
   "id": "321214dd",
   "metadata": {},
   "outputs": [
    {
     "data": {
      "text/plain": [
       "1:1000:3001"
      ]
     },
     "execution_count": 44,
     "metadata": {},
     "output_type": "execute_result"
    }
   ],
   "source": [
    "v = hcat(E.records[:v]...)\n",
    "w = hcat(E.records[:w]...)\n",
    "t = 1:1000:4000\n"
   ]
  },
  {
   "cell_type": "code",
   "execution_count": 46,
   "id": "ed8eee35",
   "metadata": {},
   "outputs": [
    {
     "ename": "LoadError",
     "evalue": "MethodError: no method matching plot_color(::Colon)\n\u001b[0mClosest candidates are:\n\u001b[0m  plot_color(::Any, \u001b[91m::Number\u001b[39m) at ~/.julia/packages/PlotUtils/mHQ0Q/src/colors.jl:24\n\u001b[0m  plot_color(::Any, \u001b[91m::Nothing\u001b[39m) at ~/.julia/packages/PlotUtils/mHQ0Q/src/colors.jl:21\n\u001b[0m  plot_color(\u001b[91m::AbstractArray{T}\u001b[39m) where T<:Number at ~/.julia/packages/PlotUtils/mHQ0Q/src/colors.jl:55\n\u001b[0m  ...",
     "output_type": "error",
     "traceback": [
      "MethodError: no method matching plot_color(::Colon)\n\u001b[0mClosest candidates are:\n\u001b[0m  plot_color(::Any, \u001b[91m::Number\u001b[39m) at ~/.julia/packages/PlotUtils/mHQ0Q/src/colors.jl:24\n\u001b[0m  plot_color(::Any, \u001b[91m::Nothing\u001b[39m) at ~/.julia/packages/PlotUtils/mHQ0Q/src/colors.jl:21\n\u001b[0m  plot_color(\u001b[91m::AbstractArray{T}\u001b[39m) where T<:Number at ~/.julia/packages/PlotUtils/mHQ0Q/src/colors.jl:55\n\u001b[0m  ...",
      "",
      "Stacktrace:",
      "  [1] |>(x::Function, f::typeof(plot_color))",
      "    @ Base ./operators.jl:911",
      "  [2] get_series_color(c::Function, sp::Plots.Subplot{Plots.GRBackend}, n::Int64, seriestype::Symbol)",
      "    @ Plots ~/.julia/packages/Plots/sxUvK/src/args.jl:1982",
      "  [3] _update_series_attributes!(plotattributes::RecipesPipeline.DefaultsDict, plt::Plots.Plot{Plots.GRBackend}, sp::Plots.Subplot{Plots.GRBackend})",
      "    @ Plots ~/.julia/packages/Plots/sxUvK/src/args.jl:2078",
      "  [4] add_series!(plt::Plots.Plot{Plots.GRBackend}, plotattributes::RecipesPipeline.DefaultsDict)",
      "    @ Plots ~/.julia/packages/Plots/sxUvK/src/pipeline.jl:377",
      "  [5] _process_seriesrecipe(plt::Any, plotattributes::Any)",
      "    @ RecipesPipeline ~/.julia/packages/RecipesPipeline/BGM3l/src/series_recipe.jl:46",
      "  [6] _process_seriesrecipes!(plt::Any, kw_list::Any)",
      "    @ RecipesPipeline ~/.julia/packages/RecipesPipeline/BGM3l/src/series_recipe.jl:27",
      "  [7] recipe_pipeline!(plt::Any, plotattributes::Any, args::Any)",
      "    @ RecipesPipeline ~/.julia/packages/RecipesPipeline/BGM3l/src/RecipesPipeline.jl:99",
      "  [8] _plot!(plt::Plots.Plot, plotattributes::Any, args::Any)",
      "    @ Plots ~/.julia/packages/Plots/sxUvK/src/plot.jl:223",
      "  [9] #plot#186",
      "    @ ~/.julia/packages/Plots/sxUvK/src/plot.jl:102 [inlined]",
      " [10] top-level scope",
      "    @ In[46]:1"
     ]
    }
   ],
   "source": [
    "q=plot(t, v, xlabel = \"Time (ms)\", ylabel = \"Membrane potential (mV)\", title = \"Membrane potential vs. time\", label = \"Adaptation current\")\n",
    "\n"
   ]
  },
  {
   "cell_type": "code",
   "execution_count": 13,
   "id": "7beeec1a",
   "metadata": {},
   "outputs": [
    {
     "ename": "LoadError",
     "evalue": "syntax: invalid iteration specification",
     "output_type": "error",
     "traceback": [
      "syntax: invalid iteration specification",
      "",
      "Stacktrace:",
      " [1] top-level scope",
      "   @ In[13]:3"
     ]
    }
   ],
   "source": [
    "@manipulate for w = -65:1:40,\n",
    "    plot(t, v, xlabel = \"Time (ms)\", ylabel = \"Membrane potential (mV)\", title = \"Membrane potential vs. time\", label = \"Adaptation current\")\n",
    "\n"
   ]
  },
  {
   "cell_type": "code",
   "execution_count": 11,
   "id": "a751acbf",
   "metadata": {},
   "outputs": [
    {
     "ename": "LoadError",
     "evalue": "MethodError: no method matching plot_color(::Colon)\n\u001b[0mClosest candidates are:\n\u001b[0m  plot_color(::Any, \u001b[91m::Number\u001b[39m) at ~/.julia/packages/PlotUtils/mHQ0Q/src/colors.jl:24\n\u001b[0m  plot_color(::Any, \u001b[91m::Nothing\u001b[39m) at ~/.julia/packages/PlotUtils/mHQ0Q/src/colors.jl:21\n\u001b[0m  plot_color(\u001b[91m::AbstractArray{T}\u001b[39m) where T<:Number at ~/.julia/packages/PlotUtils/mHQ0Q/src/colors.jl:55\n\u001b[0m  ...",
     "output_type": "error",
     "traceback": [
      "MethodError: no method matching plot_color(::Colon)\n\u001b[0mClosest candidates are:\n\u001b[0m  plot_color(::Any, \u001b[91m::Number\u001b[39m) at ~/.julia/packages/PlotUtils/mHQ0Q/src/colors.jl:24\n\u001b[0m  plot_color(::Any, \u001b[91m::Nothing\u001b[39m) at ~/.julia/packages/PlotUtils/mHQ0Q/src/colors.jl:21\n\u001b[0m  plot_color(\u001b[91m::AbstractArray{T}\u001b[39m) where T<:Number at ~/.julia/packages/PlotUtils/mHQ0Q/src/colors.jl:55\n\u001b[0m  ...",
      "",
      "Stacktrace:",
      "  [1] |>(x::Function, f::typeof(plot_color))",
      "    @ Base ./operators.jl:911",
      "  [2] get_series_color(c::Function, sp::Plots.Subplot{Plots.GRBackend}, n::Int64, seriestype::Symbol)",
      "    @ Plots ~/.julia/packages/Plots/sxUvK/src/args.jl:1982",
      "  [3] _update_series_attributes!(plotattributes::RecipesPipeline.DefaultsDict, plt::Plots.Plot{Plots.GRBackend}, sp::Plots.Subplot{Plots.GRBackend})",
      "    @ Plots ~/.julia/packages/Plots/sxUvK/src/args.jl:2078",
      "  [4] add_series!(plt::Plots.Plot{Plots.GRBackend}, plotattributes::RecipesPipeline.DefaultsDict)",
      "    @ Plots ~/.julia/packages/Plots/sxUvK/src/pipeline.jl:377",
      "  [5] _process_seriesrecipe(plt::Any, plotattributes::Any)",
      "    @ RecipesPipeline ~/.julia/packages/RecipesPipeline/BGM3l/src/series_recipe.jl:46",
      "  [6] _process_seriesrecipes!(plt::Any, kw_list::Any)",
      "    @ RecipesPipeline ~/.julia/packages/RecipesPipeline/BGM3l/src/series_recipe.jl:27",
      "  [7] recipe_pipeline!(plt::Any, plotattributes::Any, args::Any)",
      "    @ RecipesPipeline ~/.julia/packages/RecipesPipeline/BGM3l/src/RecipesPipeline.jl:99",
      "  [8] _plot!(plt::Plots.Plot, plotattributes::Any, args::Any)",
      "    @ Plots ~/.julia/packages/Plots/sxUvK/src/plot.jl:223",
      "  [9] #plot#186",
      "    @ ~/.julia/packages/Plots/sxUvK/src/plot.jl:102 [inlined]",
      " [10] top-level scope",
      "    @ In[11]:1"
     ]
    }
   ],
   "source": [
    "plot(t, v, xlabel = \"Time (ms)\", ylabel = \"Membrane potential (mV)\", title = \"Membrane potential vs. time\", label = w)\n"
   ]
  },
  {
   "cell_type": "code",
   "execution_count": null,
   "id": "182b92e8",
   "metadata": {},
   "outputs": [],
   "source": []
  },
  {
   "cell_type": "code",
   "execution_count": null,
   "id": "dcfae913",
   "metadata": {},
   "outputs": [],
   "source": []
  },
  {
   "cell_type": "code",
   "execution_count": null,
   "id": "235605bc",
   "metadata": {},
   "outputs": [],
   "source": []
  }
 ],
 "metadata": {
  "kernelspec": {
   "display_name": "Julia 1.8.5",
   "language": "julia",
   "name": "julia-1.8"
  },
  "language_info": {
   "file_extension": ".jl",
   "mimetype": "application/julia",
   "name": "julia",
   "version": "1.8.5"
  }
 },
 "nbformat": 4,
 "nbformat_minor": 5
}
